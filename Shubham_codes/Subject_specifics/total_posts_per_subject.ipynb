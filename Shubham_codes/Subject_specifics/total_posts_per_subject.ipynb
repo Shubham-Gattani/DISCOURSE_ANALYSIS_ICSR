{
 "cells": [
  {
   "cell_type": "code",
   "execution_count": 2,
   "metadata": {},
   "outputs": [],
   "source": [
    "import os, json, requests, time, yaml\n",
    "from pprint import pprint\n",
    "from datetime import datetime\n",
    "\n",
    "with open(\"../key.yaml\", \"r\") as file:\n",
    "    api_keys = yaml.safe_load(file)\n",
    "\n",
    "api_key = api_keys[\"API_KEY\"]\n",
    "api_username = \"ShubhamG\"\n",
    "defaultHost = \"discourse.onlinedegree.iitm.ac.in\"\n",
    "\n",
    "# Headers for authentication\n",
    "headers = {\n",
    "    'Api-Key': api_key,\n",
    "    'Api-Username': api_username\n",
    "}\n",
    "# Dictionary to store the data\n",
    "slug_id_pairs = {\"mlt-kb\": 32, \"maths2-kb\": 23, \"dlp-kb\": 53}"
   ]
  },
  {
   "cell_type": "markdown",
   "metadata": {},
   "source": [
    "# getting posts for MLT"
   ]
  },
  {
   "cell_type": "code",
   "execution_count": 4,
   "metadata": {},
   "outputs": [
    {
     "name": "stdout",
     "output_type": "stream",
     "text": [
      "num_topics for mlt-kb = 191\n",
      "num_topics for maths2-kb = 347\n",
      "num_topics for dlp-kb = 107\n"
     ]
    },
    {
     "data": {
      "text/plain": [
       "{'subject': ['mlt', 'maths2', 'dlp'], 'total_topics': [191, 347, 107]}"
      ]
     },
     "execution_count": 4,
     "metadata": {},
     "output_type": "execute_result"
    }
   ],
   "source": [
    "num_posts_dict = { \"subject\": [], \"total_topics\": [] }\n",
    "for slug, id in slug_id_pairs.items():\n",
    "    num_topics=0\n",
    "    page=0\n",
    "    comparison_date_1 = datetime.strptime(\"2024-09-24\", \"%Y-%m-%d\")\n",
    "    comparison_date_2 = datetime.strptime(\"2024-12-29\", \"%Y-%m-%d\")\n",
    "    # endpoint = \"https://discourse.onlinedegree.iitm.ac.in/c/courses/softengg-kb/56.json?page=0\"\n",
    "    topic_ids = list()\n",
    "    created_time_list = list()\n",
    "    for page in range(30):\n",
    "        time.sleep(0.9)\n",
    "        endpoint = f\"https://{defaultHost}/c/courses/{slug}/{id}.json?page={page}\"\n",
    "        response = requests.get(endpoint, headers=headers)\n",
    "        if response.status_code == 200:\n",
    "            data = response.json()\n",
    "            topics = data[\"topic_list\"][\"topics\"]\n",
    "            for topic in topics:\n",
    "                created_at = datetime.strptime(topic[\"created_at\"], \"%Y-%m-%dT%H:%M:%S.%fZ\")\n",
    "                topic_id = topic[\"id\"]\n",
    "                \"\"\"\n",
    "                if topic_id not in topic_ids:\n",
    "                    topic_ids.append(topic_id)\n",
    "                else:\n",
    "                    print(f\"Duplicate topic ID found: {topic_id}\")\n",
    "                if created_at not in created_time_list:\n",
    "                    created_time_list.append(created_at)\n",
    "                else:\n",
    "                    print(f\"Duplicate created_at found: {created_at} with ID = {topic_id}\")\n",
    "                \"\"\"\n",
    "                if (created_at > comparison_date_1) and (created_at < comparison_date_2) and (topic_id not in topic_ids):\n",
    "                    num_topics += 1\n",
    "\n",
    "\n",
    "        else:\n",
    "            print(f\"Failed to retrieve data.\\nStatus code: {response.status_code}\\nText: {response.text}\")\n",
    "\n",
    "    num_posts_dict[\"subject\"].append(slug.split(\"-\")[0])\n",
    "    num_posts_dict[\"total_topics\"].append(num_topics)\n",
    "    print(f\"num_topics for {slug} = {num_topics}\")\n",
    "\n",
    "num_posts_dict"
   ]
  },
  {
   "cell_type": "code",
   "execution_count": null,
   "metadata": {},
   "outputs": [
    {
     "name": "stdout",
     "output_type": "stream",
     "text": [
      "0\t2025-01-10 07:15:54.375000\n",
      "30\t2024-12-30 12:03:19.698000\n",
      "60\t2024-12-16 17:09:22.535000\n",
      "90\t2024-12-10 20:46:03.806000\n",
      "120\t2024-11-24 08:47:24.778000\n",
      "150\t2024-11-01 17:33:36.538000\n",
      "180\t2024-10-17 10:55:19.872000\n",
      "210\t2024-09-28 14:16:46.259000\n",
      "240\t2024-09-05 15:51:49.359000\n",
      "270\t2022-11-25 18:39:20.637000\n",
      "300\t2024-08-05 13:52:46.019000\n",
      "330\t2024-08-02 06:48:56.083000\n",
      "360\t2024-07-25 04:09:43.056000\n",
      "390\t2024-07-06 22:28:22.958000\n",
      "420\t2024-07-02 17:21:20.802000\n",
      "450\t2024-06-13 02:35:33.459000\n",
      "480\t2024-04-27 16:32:44.021000\n",
      "510\t2024-04-23 22:22:02.480000\n",
      "540\t2024-04-11 04:58:02.630000\n",
      "570\t2024-03-22 10:36:05.482000\n",
      "600\t2024-03-18 02:28:28.478000\n",
      "630\t2024-03-07 05:50:57.512000\n",
      "660\t2024-02-23 10:43:01.133000\n",
      "690\t2024-02-13 19:15:02.980000\n",
      "720\t2024-02-05 06:05:46.745000\n",
      "750\t2024-01-21 09:16:45.568000\n",
      "780\t2023-12-26 11:13:41.313000\n",
      "810\t2022-06-02 18:59:55.539000\n",
      "840\t2023-12-11 06:47:14.438000\n",
      "870\t2023-12-02 14:38:06.632000\n",
      "900\t2022-10-31 16:00:30.678000\n",
      "930\t2023-11-10 08:39:26.245000\n",
      "960\t2023-10-30 12:37:34.441000\n"
     ]
    }
   ],
   "source": [
    "for i in range(0,len(created_time_list),30):\n",
    "    print(i,created_time_list[i], sep=\"\\t\")"
   ]
  },
  {
   "cell_type": "code",
   "execution_count": 6,
   "metadata": {},
   "outputs": [],
   "source": [
    "# Dump total posts per subject in a csv file\n",
    "import pandas as pd\n",
    "df = pd.DataFrame(num_posts_dict)\n",
    "df.to_csv('total_posts_per_subject.csv')"
   ]
  },
  {
   "cell_type": "code",
   "execution_count": null,
   "metadata": {},
   "outputs": [],
   "source": []
  }
 ],
 "metadata": {
  "kernelspec": {
   "display_name": "Python (myenv)",
   "language": "python",
   "name": "myenv"
  },
  "language_info": {
   "codemirror_mode": {
    "name": "ipython",
    "version": 3
   },
   "file_extension": ".py",
   "mimetype": "text/x-python",
   "name": "python",
   "nbconvert_exporter": "python",
   "pygments_lexer": "ipython3",
   "version": "3.11.9"
  }
 },
 "nbformat": 4,
 "nbformat_minor": 2
}
