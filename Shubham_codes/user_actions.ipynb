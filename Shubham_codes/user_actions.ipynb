{
 "cells": [
  {
   "cell_type": "code",
   "execution_count": 1,
   "metadata": {},
   "outputs": [],
   "source": [
    "import requests,json, time\n",
    "from pprint import pprint\n",
    "\n",
    "# Get the API key and username from yaml\n",
    "\n",
    "import yaml\n",
    "with open(\"key.yaml\", \"r\") as file:\n",
    "    api_keys = yaml.safe_load(file)\n",
    "\n",
    "api_key = api_keys[\"API_KEY\"]\n",
    "api_username = \"ShubhamG\"\n",
    "defaultHost = \"discourse.onlinedegree.iitm.ac.in\"\n",
    "\n",
    "# Headers for authentication\n",
    "headers = {\n",
    "    'Api-Key': api_key,\n",
    "    'Api-Username': api_username\n",
    "}"
   ]
  },
  {
   "cell_type": "code",
   "execution_count": 7,
   "metadata": {},
   "outputs": [
    {
     "name": "stdout",
     "output_type": "stream",
     "text": [
      "900 900\n",
      "1800 1800\n",
      "2700 2700\n"
     ]
    }
   ],
   "source": [
    "# Keep the below code in a loop and increment the offset by 30 each time. The loop should break when the number of elements in the response is less than 30\n",
    "offset = 0\n",
    "data_dict ={\"user_actions\":[]}\n",
    "# filter=5 # For the \"user_replied_to_a_topic\"\n",
    "while True:\n",
    "    time.sleep(0.2)\n",
    "    endpoint = f'https://{defaultHost}/user_actions.json?username=karthik_pod&offset={offset}&filter=5'\n",
    "    # Make the request\n",
    "    response = requests.get(endpoint, \n",
    "                            headers=headers)\n",
    "\n",
    "    # Check the response\n",
    "    if response.status_code == 200:\n",
    "        data = response.json()\n",
    "        num_elements = len(data[\"user_actions\"])\n",
    "        data_dict[\"user_actions\"].extend(data[\"user_actions\"])\n",
    "        offset+=30\n",
    "        if offset%900==0:\n",
    "            print(offset, len(data_dict[\"user_actions\"]))\n",
    "        if num_elements<30:\n",
    "            break\n",
    "    else:\n",
    "        print(f'Error: {response.status_code}')\n",
    "        break"
   ]
  },
  {
   "cell_type": "code",
   "execution_count": 8,
   "metadata": {},
   "outputs": [
    {
     "name": "stdout",
     "output_type": "stream",
     "text": [
      "3092\n"
     ]
    }
   ],
   "source": [
    "print(len(data_dict[\"user_actions\"]))"
   ]
  }
 ],
 "metadata": {
  "kernelspec": {
   "display_name": "Python (myenv)",
   "language": "python",
   "name": "myenv"
  },
  "language_info": {
   "codemirror_mode": {
    "name": "ipython",
    "version": 3
   },
   "file_extension": ".py",
   "mimetype": "text/x-python",
   "name": "python",
   "nbconvert_exporter": "python",
   "pygments_lexer": "ipython3",
   "version": "3.11.9"
  }
 },
 "nbformat": 4,
 "nbformat_minor": 2
}
