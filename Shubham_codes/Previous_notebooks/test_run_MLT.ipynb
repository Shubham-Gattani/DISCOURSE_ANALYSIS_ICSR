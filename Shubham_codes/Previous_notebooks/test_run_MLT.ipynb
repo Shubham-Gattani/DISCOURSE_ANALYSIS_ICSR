{
 "cells": [
  {
   "cell_type": "markdown",
   "metadata": {},
   "source": [
    "In this notebook, I will try to find the important metrics using the APIs. We will try to find the metrics for Karthik_POD in the June 2024 term (From 3-June-2024 to 1-September-2024)"
   ]
  },
  {
   "cell_type": "code",
   "execution_count": 1,
   "metadata": {},
   "outputs": [],
   "source": [
    "import requests,json, time\n",
    "from pprint import pprint\n",
    "\n",
    "# Get the API key and username from yaml\n",
    "\n",
    "import yaml\n",
    "with open(\"key.yaml\", \"r\") as file:\n",
    "    api_keys = yaml.safe_load(file)\n",
    "\n",
    "api_key = api_keys[\"API_KEY\"]\n",
    "api_username = \"ShubhamG\"\n",
    "defaultHost = \"discourse.onlinedegree.iitm.ac.in\"\n",
    "\n",
    "# Headers for authentication\n",
    "headers = {\n",
    "    'Api-Key': api_key,\n",
    "    'Api-Username': api_username\n",
    "}"
   ]
  },
  {
   "cell_type": "code",
   "execution_count": 3,
   "metadata": {},
   "outputs": [
    {
     "name": "stdout",
     "output_type": "stream",
     "text": [
      "200\n"
     ]
    }
   ],
   "source": [
    "slug, user=\"mlp-kb\", \"karthik_pod\"\n",
    "endpoint = f'https://{defaultHost}/search.json?q=category%3A{slug}+user%3A{user}'\n",
    "# Make the request\n",
    "response = requests.get(endpoint, \n",
    "                        headers=headers)\n",
    "\n",
    "# Check the response\n",
    "if response.status_code == 200:\n",
    "    # data = response.json()\n",
    "    print(response.status_code)\n",
    "else:\n",
    "    print(f'Error: {response.status_code}')\n"
   ]
  },
  {
   "cell_type": "code",
   "execution_count": 4,
   "metadata": {},
   "outputs": [],
   "source": [
    "# Dump the response into a json file\n",
    "with open(f'IMP_JSONs/all_posts_topics_{user}_{slug}.json', \"w\") as f:\n",
    "    f.write(json.dumps(response.json(), indent=4))"
   ]
  }
 ],
 "metadata": {
  "kernelspec": {
   "display_name": "Python (myenv)",
   "language": "python",
   "name": "myenv"
  },
  "language_info": {
   "codemirror_mode": {
    "name": "ipython",
    "version": 3
   },
   "file_extension": ".py",
   "mimetype": "text/x-python",
   "name": "python",
   "nbconvert_exporter": "python",
   "pygments_lexer": "ipython3",
   "version": "3.11.9"
  }
 },
 "nbformat": 4,
 "nbformat_minor": 2
}
