{
 "cells": [
  {
   "cell_type": "markdown",
   "metadata": {},
   "source": [
    "- **Web Scraping Setup and Execution**: The code sets up a Selenium WebDriver using ChromeDriver to open a specific URL (`https://discourse.onlinedegree.iitm.ac.in/u?order=likes_received&period=all`). It waits for the page to load completely and then scrolls down the page to load more user details dynamically until no new content is loaded.\n",
    "\n",
    "- **Data Extraction**: The code finds all `<div>` elements with the class `user-detail` and extracts the `username`, `name`, and `title` for each user. It specifically checks if the `title` contains the word \"course\" (case-insensitive) before extracting the details.\n",
    "\n",
    "- **Data Storage and Output**: The extracted data is stored in a dictionary and then converted into a Pandas DataFrame. Finally, the DataFrame is converted into a Markdown table and printed, allowing for easy viewing and further processing of the user details."
   ]
  },
  {
   "cell_type": "code",
   "execution_count": 9,
   "metadata": {},
   "outputs": [
    {
     "name": "stdout",
     "output_type": "stream",
     "text": [
      "Note: you may need to restart the kernel to use updated packages.Collecting tabulate\n",
      "  Downloading tabulate-0.9.0-py3-none-any.whl.metadata (34 kB)\n",
      "Downloading tabulate-0.9.0-py3-none-any.whl (35 kB)\n",
      "Installing collected packages: tabulate\n",
      "Successfully installed tabulate-0.9.0\n",
      "\n"
     ]
    },
    {
     "name": "stderr",
     "output_type": "stream",
     "text": [
      "\n",
      "[notice] A new release of pip is available: 24.0 -> 24.3.1\n",
      "[notice] To update, run: python.exe -m pip install --upgrade pip\n"
     ]
    }
   ],
   "source": [
    "# %pip install selenium\n",
    "# %pip install webdriver_manager\n",
    "# %pip install pandas\n",
    "# %pip install tabulate"
   ]
  },
  {
   "cell_type": "code",
   "execution_count": 1,
   "metadata": {},
   "outputs": [
    {
     "name": "stdout",
     "output_type": "stream",
     "text": [
      "d:\\IITM ALL\\ANALYTICS TEAM\\myenv\\Scripts\\python.exe\n",
      "C:\\Users\\Lenovo\\AppData\\Local\\Microsoft\\WindowsApps\\python.exe\n"
     ]
    }
   ],
   "source": [
    "!where python"
   ]
  },
  {
   "cell_type": "code",
   "execution_count": 2,
   "metadata": {},
   "outputs": [
    {
     "name": "stdout",
     "output_type": "stream",
     "text": [
      "d:\\IITM ALL\\ANALYTICS TEAM\\myenv\\Scripts\\python.exe\n"
     ]
    }
   ],
   "source": [
    "import sys\n",
    "print(sys.executable)"
   ]
  },
  {
   "cell_type": "code",
   "execution_count": 4,
   "metadata": {},
   "outputs": [],
   "source": [
    "from selenium import webdriver\n",
    "from selenium.webdriver.common.by import By\n",
    "from selenium.webdriver.chrome.service import Service\n",
    "from webdriver_manager.chrome import ChromeDriverManager\n",
    "import pandas as pd\n",
    "import time\n",
    "\n",
    "# Set up the Chrome WebDriver\n",
    "service = Service(ChromeDriverManager().install())\n",
    "driver = webdriver.Chrome(service=service)\n",
    "# Open the URL\n",
    "url = \"https://discourse.onlinedegree.iitm.ac.in/u?order=likes_received&period=all\"\n",
    "driver.get(url)\n",
    "\n",
    "# Wait for the page to load completely\n",
    "driver.implicitly_wait(100)"
   ]
  },
  {
   "cell_type": "code",
   "execution_count": 5,
   "metadata": {},
   "outputs": [],
   "source": [
    "# Scroll down to load more user details\n",
    "last_height = driver.execute_script(\"return document.body.scrollHeight\")\n",
    "count=0\n",
    "while True:\n",
    "    # Scroll down to the bottom\n",
    "    driver.execute_script(\"window.scrollTo(0, document.body.scrollHeight);\")\n",
    "    \n",
    "    # Wait for new content to load\n",
    "    time.sleep(4)\n",
    "    # count+=1\n",
    "    # if count==2:\n",
    "    #     break\n",
    "    \n",
    "    # Calculate new scroll height and compare with last scroll height\n",
    "    new_height = driver.execute_script(\"return document.body.scrollHeight\")\n",
    "    if new_height == last_height:\n",
    "        break\n",
    "    last_height = new_height"
   ]
  },
  {
   "cell_type": "code",
   "execution_count": 6,
   "metadata": {},
   "outputs": [
    {
     "data": {
      "text/plain": [
       "(123, 3)"
      ]
     },
     "execution_count": 6,
     "metadata": {},
     "output_type": "execute_result"
    }
   ],
   "source": [
    "# Find all <div> tags with class \"user-detail\"\n",
    "user_details = driver.find_elements(By.CLASS_NAME, 'user-detail')\n",
    "dataframe = {\"username\":[], \"name\":[], \"title\":[]}\n",
    "\n",
    "# Extract and print the details of each user\n",
    "for user in user_details:\n",
    "    # Check if the title is present\n",
    "    title_element = user.find_elements(By.CLASS_NAME, 'title')\n",
    "    title = title_element[0].text\n",
    "    if \"course\" in title.lower():\n",
    "        # Extract the username and name\n",
    "        username = user.find_element(By.CLASS_NAME, 'username').text\n",
    "        name = user.find_element(By.CLASS_NAME, 'name').text\n",
    "        # Append the details to the dataframe\n",
    "        dataframe[\"username\"].append(username)\n",
    "        dataframe[\"name\"].append(name)\n",
    "        dataframe[\"title\"].append(title)\n",
    "\n",
    "df = pd.DataFrame(dataframe)\n",
    "df.shape"
   ]
  },
  {
   "cell_type": "code",
   "execution_count": 7,
   "metadata": {},
   "outputs": [],
   "source": [
    "df.to_csv(\"instructors_TAs.csv\", index=False)"
   ]
  },
  {
   "cell_type": "code",
   "execution_count": 8,
   "metadata": {},
   "outputs": [
    {
     "data": {
      "text/plain": [
       "3801"
      ]
     },
     "execution_count": 8,
     "metadata": {},
     "output_type": "execute_result"
    }
   ],
   "source": [
    "len(user_details)"
   ]
  },
  {
   "cell_type": "code",
   "execution_count": 10,
   "metadata": {},
   "outputs": [
    {
     "name": "stdout",
     "output_type": "stream",
     "text": [
      "| username          | name                     | title          |\n",
      "|:------------------|:-------------------------|:---------------|\n",
      "| Karthik_POD       | Karthik Thiagarajan      | Course_Team    |\n",
      "| AbhishekPOD       | Abhishek                 | Course_Team    |\n",
      "| AtulPS            | ATUL PRATAP SINGH        | Course_Team    |\n",
      "| Nikita            | Nikita Kumari            | Course_Team    |\n",
      "| santhanakrishnan  | Santhana Krishnan S      | Course_Team    |\n",
      "| Milo              | Dr. Malolan Sundararaman | Course_Team    |\n",
      "| PiyushW           | Piyush Wairale           | Course_Team    |\n",
      "| Nitin_Jha         | Nitin Kumar Jha          | Course_Team    |\n",
      "| AdarshMadre       | Adarsh Madre             | Course_Team    |\n",
      "| sushmitha         | Sushmitha P              | Course_Team    |\n",
      "| Omkar_Joshi       | Omkar Joshi              | Course_Team    |\n",
      "| jimmi             | Jimmi Kumar Bharti       | Course_Team    |\n",
      "| subhasis          | Subhasis                 | Course_Team    |\n",
      "| carlton           | Carlton D'Silva          | Course TA      |\n",
      "| sukraat           | Sukraat Dang             | Course_Team    |\n",
      "| arunprakash       | Arun Prakash A           | Course_Team    |\n",
      "| Vishal            | Vishal Raj               | Course_Team    |\n",
      "| Subendu           | Subendu Gorai            | Course_Team    |\n",
      "| arup.kr           | Arup Kumar Chattopadhyay | Course_Team    |\n",
      "| s.anand           | Anand S                  | Course_faculty |\n",
      "| Prashant2         | Prashant Sharma          | Course_Team    |\n",
      "| PulkitMangal      | Pulkit Mangal            | Course TA      |\n",
      "| Ram               | Ram                      | Course_Team    |\n",
      "| baskaran          | Baskaran                 | Course_Team    |\n",
      "| Jivraj            | Jivraj Singh Shekhawat   | Course TA      |\n",
      "| devam_07          | Devam Shah               | Course TA      |\n",
      "| iishaan.t         | Ishaan Taneja            | Course_Team    |\n",
      "| 22f3001517        | Anant Kumar              | Course TA      |\n",
      "| mayurg            | Mayur                    | Course_Team    |\n",
      "| Krishnaaditi      | ADITI KRISHANA           | Course TA      |\n",
      "| Soni              | Swarnim Soni             | Course_Team    |\n",
      "| Puneet_21f3002005 | Puneet                   | Course TA      |\n",
      "| lalitmach22       | Lalit                    | Course TA      |\n",
      "| 23f2000573        | B R GIRI SUBRAHMANYA     | Course TA      |\n",
      "| bhaskar           | bhaskar                  | Course_Team    |\n",
      "| Dixon             | Dixon                    | Course_Team    |\n",
      "| afnanahmad        | Afnan Ahmad              | Course TA      |\n",
      "| man               | Manoj Khara              | Course_Team    |\n",
      "| 24F1002229        | Palak Pandey             | Course TA      |\n",
      "| anamika           | Anamika                  | Course_Team    |\n",
      "| anjana_b          | Anjana Bhura             | Course_Team    |\n",
      "| livin             | Livin Nector             | Course_Team    |\n",
      "| subhajit2021      | subhajit                 | Course_Team    |\n",
      "| Narendra          | Narendra Mishra          | Course_Team    |\n",
      "| Nalini            | Nalini pagadala          | Course_Team    |\n",
      "| Shubham_Maurya    | Shubham Maurya           | Course_Team    |\n",
      "| ankurparmar       | Ankur Parmar             | Course_Team    |\n",
      "| Srikanth1729      | Srikanth Venkatesan      | Course_Team    |\n"
     ]
    }
   ],
   "source": [
    "# Convert DataFrame to Markdown table\n",
    "markdown_table = df.to_markdown(index=False)\n",
    "print(markdown_table)\n"
   ]
  },
  {
   "cell_type": "code",
   "execution_count": 11,
   "metadata": {},
   "outputs": [],
   "source": [
    "# Close the browser\n",
    "driver.quit()"
   ]
  }
 ],
 "metadata": {
  "kernelspec": {
   "display_name": "Python (myenv)",
   "language": "python",
   "name": "myenv"
  },
  "language_info": {
   "codemirror_mode": {
    "name": "ipython",
    "version": 3
   },
   "file_extension": ".py",
   "mimetype": "text/x-python",
   "name": "python",
   "nbconvert_exporter": "python",
   "pygments_lexer": "ipython3",
   "version": "3.11.9"
  }
 },
 "nbformat": 4,
 "nbformat_minor": 2
}
