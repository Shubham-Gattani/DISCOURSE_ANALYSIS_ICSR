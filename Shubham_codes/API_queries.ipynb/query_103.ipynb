{
 "cells": [
  {
   "cell_type": "code",
   "execution_count": 21,
   "metadata": {},
   "outputs": [],
   "source": [
    "import requests, yaml\n",
    "import json\n",
    "from pprint import pprint\n",
    "from datetime import datetime, timedelta\n",
    "import pandas as pd\n",
    "\n",
    "DISCOURSE_BASE_URL = \"https://discourse.onlinedegree.iitm.ac.in\"\n",
    "\n",
    "\n",
    "with open(\"../key.yaml\", \"r\") as file:\n",
    "    api_keys = yaml.safe_load(file) \n",
    "\n",
    "API_KEY_GLOBAL= api_keys[\"API_KEY\"]\n",
    "API_USERNAME = 'shubhamG'\n",
    "\n",
    "QUERY_ID = \"103\"  # Query id  98\n",
    "GROUP_NAME = \"discourse_analytics\"\n",
    "\n",
    "def get_user_actions(start_date = \"22-01-2024\", end_date=\"28-04-2024\", category_id=33):\n",
    "    # API endpoint for Data Explorer\n",
    "    \n",
    "    url = f\"{DISCOURSE_BASE_URL}/g/{GROUP_NAME}/reports/{QUERY_ID}/run\"\n",
    "    # print(url)\n",
    "\n",
    "    # Headers required for authentication\n",
    "    headers = {\n",
    "        \"Accept\": \"*/*\",\n",
    "        'Api-Key':API_KEY_GLOBAL,\n",
    "        'Api-Username': API_USERNAME,\n",
    "        'Content-Type': 'multipart/form-data'\n",
    "    }\n",
    "\n",
    "    payload = f'params={{\"category_id\": {str(category_id)},\\\n",
    "                        \"start_date\":\"22-01-2024\",\\\n",
    "                        \"end_date\":\"28-04-2024\"}}'\n",
    "\n",
    "    try:\n",
    "        response = requests.request(\"POST\", url, headers=headers,data=payload)\n",
    "        # response = requests.post(url, headers=headers, data=payload)\n",
    "        # print(response.text)\n",
    "        response.raise_for_status()  # Raise exception for bad status codes\n",
    "        data = response.json()\n",
    "\n",
    "        # Data Explorer returns results in the 'rows' key\n",
    "        if data.get('rows') and len(data['rows']) > 0:\n",
    "            return data['rows']  # Returns all rows\n",
    "        return None\n",
    "\n",
    "    except Exception as e:\n",
    "        print(f\"Error making request: {e}\")\n",
    "        return None\n",
    "    \n",
    "def get_date_ranges(start_date, end_date): # Function to generate date ranges (of 10-day-span) for the given date range\n",
    "    start_date = datetime.strptime(start_date, \"%d-%m-%Y\")\n",
    "    end_date = datetime.strptime(end_date, \"%d-%m-%Y\")\n",
    "    date_ranges = []\n",
    "    while start_date <= end_date:\n",
    "        end_date_range = start_date + timedelta(days=9)\n",
    "        if end_date_range > end_date:\n",
    "            end_date_range = end_date\n",
    "        date_ranges.append((start_date.strftime(\"%d-%m-%Y\"), end_date_range.strftime(\"%d-%m-%Y\")))\n",
    "        start_date = end_date_range + timedelta(days=1)\n",
    "    return date_ranges"
   ]
  },
  {
   "cell_type": "code",
   "execution_count": 13,
   "metadata": {},
   "outputs": [],
   "source": [
    "columns= [\"created_at\",\"user_id\",\"action_type\",\"target_user_id\",\"target_topic_id\",\"target_post_id\",\"topic_title\",\"acting_username\",\"action_name\"]\n",
    "start_date, end_date=\"22-01-2024\", \"28-04-2024\"\n",
    "# get the date ranges\n",
    "date_ranges = get_date_ranges(start_date, end_date)"
   ]
  },
  {
   "cell_type": "code",
   "execution_count": 14,
   "metadata": {},
   "outputs": [
    {
     "name": "stdout",
     "output_type": "stream",
     "text": [
      "('22-01-2024', '31-01-2024')\n",
      "Error making request: 500 Server Error: Internal Server Error for url: https://discourse.onlinedegree.iitm.ac.in/g/discourse_analytics/reports/103/run\n"
     ]
    },
    {
     "ename": "TypeError",
     "evalue": "'NoneType' object is not subscriptable",
     "output_type": "error",
     "traceback": [
      "\u001b[1;31m---------------------------------------------------------------------------\u001b[0m",
      "\u001b[1;31mTypeError\u001b[0m                                 Traceback (most recent call last)",
      "Cell \u001b[1;32mIn[14], line 6\u001b[0m\n\u001b[0;32m      4\u001b[0m     start_date, end_date \u001b[38;5;241m=\u001b[39m date_range[\u001b[38;5;241m0\u001b[39m], date_range[\u001b[38;5;241m1\u001b[39m]\n\u001b[0;32m      5\u001b[0m     rows \u001b[38;5;241m=\u001b[39m get_user_actions(start_date, end_date, category_id\u001b[38;5;241m=\u001b[39m\u001b[38;5;241m33\u001b[39m) \u001b[38;5;66;03m# Call the API function\u001b[39;00m\n\u001b[1;32m----> 6\u001b[0m     \u001b[38;5;28mprint\u001b[39m(\u001b[43mrows\u001b[49m\u001b[43m[\u001b[49m\u001b[38;5;241;43m0\u001b[39;49m\u001b[43m]\u001b[49m)\n\u001b[0;32m      7\u001b[0m     \u001b[38;5;66;03m# data.extend(rows)\u001b[39;00m\n\u001b[0;32m      8\u001b[0m     \n\u001b[0;32m      9\u001b[0m \u001b[38;5;66;03m# df = pd.DataFrame(data, columns=columns)\u001b[39;00m\n",
      "\u001b[1;31mTypeError\u001b[0m: 'NoneType' object is not subscriptable"
     ]
    }
   ],
   "source": [
    "data=[]\n",
    "for date_range in date_ranges[:1]:\n",
    "    print(date_range)\n",
    "    start_date, end_date = date_range[0], date_range[1]\n",
    "    rows = get_user_actions(start_date, end_date, category_id=33) # Call the API function\n",
    "    print(rows[0])\n",
    "    # data.extend(rows)\n",
    "    \n",
    "# df = pd.DataFrame(data, columns=columns)"
   ]
  },
  {
   "cell_type": "code",
   "execution_count": 22,
   "metadata": {},
   "outputs": [
    {
     "name": "stdout",
     "output_type": "stream",
     "text": [
      "Error making request: 500 Server Error: Internal Server Error for url: https://discourse.onlinedegree.iitm.ac.in/g/discourse_analytics/reports/103/run\n"
     ]
    }
   ],
   "source": [
    "# get_user_actions('22-01-2024', '31-01-2024')\n",
    "get_user_actions()"
   ]
  }
 ],
 "metadata": {
  "kernelspec": {
   "display_name": "Python (myenv)",
   "language": "python",
   "name": "myenv"
  },
  "language_info": {
   "codemirror_mode": {
    "name": "ipython",
    "version": 3
   },
   "file_extension": ".py",
   "mimetype": "text/x-python",
   "name": "python",
   "nbconvert_exporter": "python",
   "pygments_lexer": "ipython3",
   "version": "3.11.9"
  }
 },
 "nbformat": 4,
 "nbformat_minor": 2
}
