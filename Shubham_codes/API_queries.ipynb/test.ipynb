{
 "cells": [
  {
   "cell_type": "markdown",
   "metadata": {},
   "source": [
    "# QUERY 98 (username-email mapping)"
   ]
  },
  {
   "cell_type": "code",
   "execution_count": null,
   "metadata": {},
   "outputs": [
    {
     "name": "stdout",
     "output_type": "stream",
     "text": [
      "https://discourse.onlinedegree.iitm.ac.in/g/discourse_analytics/reports/98/run\n",
      "{\"success\":true,\"errors\":[],\"duration\":1.0,\"result_count\":1,\"params\":{\"username\":\"jaidev\"},\"columns\":[\"username\",\"primary_email\"],\"default_limit\":1000,\"relations\":{},\"colrender\":{},\"rows\":[[\"jaidev\",\"not_available\"]]}\n",
      "['jaidev', 'not_available']\n",
      "https://discourse.onlinedegree.iitm.ac.in/g/discourse_analytics/reports/98/run\n",
      "{\"success\":true,\"errors\":[],\"duration\":0.9,\"result_count\":1,\"params\":{\"username\":\"jaidevd\"},\"columns\":[\"username\",\"primary_email\"],\"default_limit\":1000,\"relations\":{},\"colrender\":{},\"rows\":[[\"jaidevd\",\"jaidev@study.iitm.ac.in\"]]}\n",
      "['jaidevd', 'jaidev@study.iitm.ac.in']\n"
     ]
    }
   ],
   "source": [
    "\n",
    "import requests\n",
    "import json\n",
    "\n",
    "\n",
    "DISCOURSE_BASE_URL = \"https://discourse.onlinedegree.iitm.ac.in\"\n",
    "\n",
    "\n",
    "API_KEY_GLOBAL= ''\n",
    "API_USERNAME = 'shubhamG'\n",
    "\n",
    "\n",
    "\n",
    "\n",
    "\n",
    "QUERY_ID = \"98\"  # Query id  98\n",
    "GROUP_NAME = \"discourse_analytics\"\n",
    "\n",
    "def get_user_email(username):\n",
    "    # API endpoint for Data Explorer\n",
    "    \n",
    "    url = f\"{DISCOURSE_BASE_URL}/g/{GROUP_NAME}/reports/{QUERY_ID}/run\"\n",
    "    print(url)\n",
    "\n",
    "    # Headers required for authentication\n",
    "    headers = {\n",
    "        \"Accept\": \"*/*\",\n",
    "        'Api-Key':API_KEY_GLOBAL,\n",
    "        'Api-Username': API_USERNAME,\n",
    "        'Content-Type': 'multipart/form-data'\n",
    "    }\n",
    "\n",
    "\n",
    "    payload = f'params={{\"username\": \"{username}\"}}'\n",
    "\n",
    "\n",
    "\n",
    "    try:\n",
    "        response = requests.request(\"POST\", url, headers=headers,data=payload)\n",
    "        # response = requests.post(url, headers=headers, data=payload)\n",
    "        print(response.text)\n",
    "        response.raise_for_status()  # Raise exception for bad status codes\n",
    "\n",
    "        data = response.json()\n",
    "\n",
    "        # Data Explorer returns results in the 'rows' key\n",
    "        if data.get('rows') and len(data['rows']) > 0:\n",
    "            return data['rows'][0]  # Returns first row [username, email]\n",
    "        return None\n",
    "\n",
    "    except requests.exceptions.RequestException as e:\n",
    "        print(f\"Error making request: {e}\")\n",
    "        return None\n",
    "\n",
    "print(get_user_email(\"jaidev\"))\n",
    "print(get_user_email(\"jaidevd\"))"
   ]
  },
  {
   "cell_type": "markdown",
   "metadata": {},
   "source": [
    "# QUERY 103"
   ]
  },
  {
   "cell_type": "code",
   "execution_count": null,
   "metadata": {},
   "outputs": [
    {
     "name": "stdout",
     "output_type": "stream",
     "text": [
      "https://discourse.onlinedegree.iitm.ac.in/g/discourse_analytics/reports/103/run\n",
      "Error making request: 500 Server Error: Internal Server Error for url: https://discourse.onlinedegree.iitm.ac.in/g/discourse_analytics/reports/103/run\n",
      "None\n"
     ]
    }
   ],
   "source": [
    "\n",
    "import requests\n",
    "import json\n",
    "from pprint import pprint\n",
    "\n",
    "DISCOURSE_BASE_URL = \"https://discourse.onlinedegree.iitm.ac.in\"\n",
    "\n",
    "API_KEY_GLOBAL= ''\n",
    "API_USERNAME = 'shubhamG'\n",
    "\n",
    "QUERY_ID = \"103\"  # Query id  98\n",
    "GROUP_NAME = \"discourse_analytics\"\n",
    "\n",
    "def get_user_actions():\n",
    "    # API endpoint for Data Explorer\n",
    "    \n",
    "    url = f\"{DISCOURSE_BASE_URL}/g/{GROUP_NAME}/reports/{QUERY_ID}/run\"\n",
    "    print(url)\n",
    "\n",
    "    # Headers required for authentication\n",
    "    headers = {\n",
    "        \"Accept\": \"*/*\",\n",
    "        'Api-Key':API_KEY_GLOBAL,\n",
    "        'Api-Username': API_USERNAME,\n",
    "        'Content-Type': 'multipart/form-data'\n",
    "    }\n",
    "\n",
    "\n",
    "    payload = f'params={{\"category_id\": \"33\",\\\n",
    "                        \"start_date\":\"22-01-2024\",\\\n",
    "                        \"end_date\":\"28-04-2024\"}}'\n",
    "\n",
    "\n",
    "\n",
    "    try:\n",
    "        response = requests.request(\"POST\", url, headers=headers,data=payload)\n",
    "        # response = requests.post(url, headers=headers, data=payload)\n",
    "        # print(response.text)\n",
    "        response.raise_for_status()  # Raise exception for bad status codes\n",
    "\n",
    "        data = response.json()\n",
    "\n",
    "        # Data Explorer returns results in the 'rows' key\n",
    "        if data.get('rows') and len(data['rows']) > 0:\n",
    "            pprint(f\"Length of rows: {len(data['rows'])}\")\n",
    "            return data['rows'][0]  # Returns first row\n",
    "        return None\n",
    "\n",
    "    except requests.exceptions.RequestException as e:\n",
    "        print(f\"Error making request: {e}\")\n",
    "        return None\n",
    "\n",
    "pprint(get_user_actions())"
   ]
  },
  {
   "cell_type": "code",
   "execution_count": 6,
   "metadata": {},
   "outputs": [
    {
     "name": "stdout",
     "output_type": "stream",
     "text": [
      "5317\n"
     ]
    }
   ],
   "source": [
    "import json\n",
    "with open(\"discourse-analytics-per-category-all-user-actions@discourse-onlinedegree-iitm-ac-in-2025-02-04.dcqresult.json\",'r') as f:\n",
    "    data = json.load(f)\n",
    "    print(len(data[\"rows\"]))"
   ]
  }
 ],
 "metadata": {
  "kernelspec": {
   "display_name": "Python (myenv)",
   "language": "python",
   "name": "myenv"
  },
  "language_info": {
   "codemirror_mode": {
    "name": "ipython",
    "version": 3
   },
   "file_extension": ".py",
   "mimetype": "text/x-python",
   "name": "python",
   "nbconvert_exporter": "python",
   "pygments_lexer": "ipython3",
   "version": "3.11.9"
  }
 },
 "nbformat": 4,
 "nbformat_minor": 2
}
